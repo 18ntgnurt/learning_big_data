{
 "cells": [
  {
   "cell_type": "markdown",
   "metadata": {},
   "source": [
    "# Fraud Detection Data Exploration\n",
    "\n",
    "This notebook explores the sales transaction data for fraud detection patterns."
   ]
  },
  {
   "cell_type": "code",
   "execution_count": null,
   "metadata": {},
   "outputs": [],
   "source": [
    "from pyspark.sql import SparkSession\n",
    "import pyspark.sql.functions as F\n",
    "\n",
    "# Create Spark session\n",
    "spark = SparkSession.builder \\\n",
    "    .appName(\"FraudDetectionExploration\") \\\n",
    "    .master(\"spark://spark-master:7077\") \\\n",
    "    .getOrCreate()\n",
    "\n",
    "print(\"Spark session created successfully!\")"
   ]
  },
  {
   "cell_type": "code",
   "execution_count": null,
   "metadata": {},
   "outputs": [],
   "source": [
    "# Load sales data from MySQL\n",
    "sales_df = spark.read \\\n",
    "    .format(\"jdbc\") \\\n",
    "    .option(\"url\", \"jdbc:mysql://mysql:3306/data_engineering\") \\\n",
    "    .option(\"dbtable\", \"sales_records\") \\\n",
    "    .option(\"user\", \"dataeng\") \\\n",
    "    .option(\"password\", \"dataeng123\") \\\n",
    "    .load()\n",
    "\n",
    "print(f\"Loaded {sales_df.count()} sales records\")\n",
    "sales_df.show(5)"
   ]
  }
 ],
 "metadata": {
  "kernelspec": {
   "display_name": "Python 3",
   "language": "python",
   "name": "python3"
  }
 },
 "nbformat": 4,
 "nbformat_minor": 4
}
